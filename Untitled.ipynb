{
 "cells": [
  {
   "cell_type": "code",
   "execution_count": 1,
   "id": "401a4403",
   "metadata": {},
   "outputs": [],
   "source": [
    "%matplotlib inline"
   ]
  },
  {
   "cell_type": "code",
   "execution_count": 2,
   "id": "3e9b98f0",
   "metadata": {},
   "outputs": [],
   "source": [
    "from innov import *\n",
    "\n",
    "np.set_printoptions(precision=4, linewidth=200)"
   ]
  },
  {
   "cell_type": "code",
   "execution_count": 37,
   "id": "d463bc19",
   "metadata": {},
   "outputs": [],
   "source": [
    "def kth_diag_indices(a, k):\n",
    "    rows, cols = np.diag_indices_from(a)\n",
    "    if k < 0:\n",
    "        return rows[-k:], cols[:k]\n",
    "    elif k > 0:\n",
    "        return rows[:-k], cols[k:]\n",
    "    else:\n",
    "        return rows, cols\n",
    "\n",
    "def construct_propagator(n, G, ro, rd, I, alpha, Q, L):\n",
    "    \"\"\"Update occupancy number for a small time step self.dt.\n",
    "\n",
    "    Parameters\n",
    "    ----------\n",
    "    n : ndarray\n",
    "    G : float\n",
    "    ro : float\n",
    "    rd : float\n",
    "    I : float\n",
    "    alpha : float\n",
    "    Q : float\n",
    "    L : float, None\n",
    "    dt : float\n",
    "    \"\"\"\n",
    "    re = 1\n",
    "    A = np.eye(n.size)\n",
    "    \n",
    "    # startup rate\n",
    "    A[np.diag_indices(n.size)] += G/L\n",
    "\n",
    "    # innovation shift\n",
    "    A[np.diag_indices(n.size)] -= re * I * n[0]**alpha * n\n",
    "    A[kth_diag_indices(A, -1)] += re * I * n[0]**alpha * n[:-1]\n",
    "\n",
    "    # mimetic replication\n",
    "    A[kth_diag_indices(A, 1)] += re / (Q-1) * n[1:]\n",
    "\n",
    "    # death\n",
    "    A[np.diag_indices(n.size)] -= rd * n\n",
    "\n",
    "    return A"
   ]
  },
  {
   "cell_type": "code",
   "execution_count": 38,
   "id": "c9235fb1",
   "metadata": {},
   "outputs": [],
   "source": [
    "G, ro, rd, I = list(iplot.iwai_params().values())[:4]\n",
    "L = ODE2(G, ro, rd, I).L\n",
    "dt = .01"
   ]
  },
  {
   "cell_type": "code",
   "execution_count": 39,
   "id": "eb0be58d",
   "metadata": {},
   "outputs": [
    {
     "data": {
      "text/plain": [
       "array([10.0076, 10.0077, 10.0077, 10.0077, 10.0077, 10.0077, 10.0077, 10.0077, 10.0077, 10.0067])"
      ]
     },
     "execution_count": 39,
     "metadata": {},
     "output_type": "execute_result"
    }
   ],
   "source": [
    "n = np.ones(int(L))\n",
    "A = construct_propagator(n, G, ro, rd, I, 1, 2, L)\n",
    "\n",
    "np.exp(dt * A) @ n"
   ]
  },
  {
   "cell_type": "code",
   "execution_count": 30,
   "id": "4b50dc8b",
   "metadata": {},
   "outputs": [
    {
     "name": "stdout",
     "output_type": "stream",
     "text": [
      "[6.5566 6.6452 6.6452 6.6452 6.6452 6.6452 6.6452 6.6452 6.6452 5.6452]\n",
      "[1.0656 1.0665 1.0665 1.0665 1.0665 1.0665 1.0665 1.0665 1.0665 1.0565]\n"
     ]
    }
   ],
   "source": [
    "n = np.ones(int(L))\n",
    "print(jit_update_n(n, G, ro, rd, 1, I, 1, 2, L, dt))\n",
    "print(n)"
   ]
  },
  {
   "cell_type": "code",
   "execution_count": null,
   "id": "b7448f21",
   "metadata": {},
   "outputs": [],
   "source": []
  }
 ],
 "metadata": {
  "kernelspec": {
   "display_name": "Python 3 (ipykernel)",
   "language": "python",
   "name": "python3"
  },
  "language_info": {
   "codemirror_mode": {
    "name": "ipython",
    "version": 3
   },
   "file_extension": ".py",
   "mimetype": "text/x-python",
   "name": "python",
   "nbconvert_exporter": "python",
   "pygments_lexer": "ipython3",
   "version": "3.11.3"
  }
 },
 "nbformat": 4,
 "nbformat_minor": 5
}
