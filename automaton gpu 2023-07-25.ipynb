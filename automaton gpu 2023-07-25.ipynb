{
 "cells": [
  {
   "cell_type": "code",
   "execution_count": 1,
   "id": "1c2499a4",
   "metadata": {},
   "outputs": [
    {
     "name": "stdout",
     "output_type": "stream",
     "text": [
      "%pylab is deprecated, use %matplotlib inline and import the required libraries.\n",
      "Populating the interactive namespace from numpy and matplotlib\n"
     ]
    }
   ],
   "source": [
    "%pylab inline"
   ]
  },
  {
   "cell_type": "code",
   "execution_count": 2,
   "id": "b9640fe2",
   "metadata": {},
   "outputs": [],
   "source": [
    "plt.rc('font', size=15)"
   ]
  },
  {
   "cell_type": "code",
   "execution_count": 29,
   "id": "2e3a07a5",
   "metadata": {},
   "outputs": [],
   "source": [
    "from jax import config\n",
    "from jax import random\n",
    "import jax.numpy as jnp\n",
    "from jax.lax import fori_loop\n",
    "from jax import jit\n",
    "\n",
    "config.update('jax_enable_x64', True)"
   ]
  },
  {
   "cell_type": "code",
   "execution_count": 34,
   "id": "49fae3c0",
   "metadata": {
    "scrolled": true
   },
   "outputs": [
    {
     "name": "stdout",
     "output_type": "stream",
     "text": [
      "4 ms ± 337 µs per loop (mean ± std. dev. of 7 runs, 100 loops each)\n"
     ]
    }
   ],
   "source": [
    "def one_loop(i, key):\n",
    "    key, subkey = random.split(key, 2)\n",
    "    lam = jnp.abs(random.normal(subkey, (1000, 1000)))\n",
    "    n = random.poisson(subkey, lam, (1000, 1000))\n",
    "    return key\n",
    "    \n",
    "key = random.PRNGKey(0)\n",
    "%timeit fori_loop(0, 100, one_loop, key).block_until_ready()"
   ]
  },
  {
   "cell_type": "code",
   "execution_count": 35,
   "id": "099c1edb",
   "metadata": {},
   "outputs": [
    {
     "name": "stdout",
     "output_type": "stream",
     "text": [
      "7.41 s ± 55.9 ms per loop (mean ± std. dev. of 7 runs, 1 loop each)\n"
     ]
    }
   ],
   "source": [
    "def one_loop():\n",
    "    lam = np.abs(np.random.normal(size=(1000,1000)))\n",
    "    n = np.random.poisson(lam=lam, size=(1000, 1000))\n",
    "    \n",
    "%timeit [one_loop() for i in range(100)]"
   ]
  },
  {
   "cell_type": "markdown",
   "id": "86cf7e73",
   "metadata": {},
   "source": []
  },
  {
   "cell_type": "code",
   "execution_count": 248,
   "id": "1b7b1300",
   "metadata": {},
   "outputs": [],
   "source": [
    "N = 10\n",
    "n = jnp.zeros(N, dtype=jnp.int64)\n",
    "n = n.at[0].set(10)\n",
    "n = n.at[1].set(10)\n",
    "\n",
    "obs_front = jnp.zeros(1, dtype=jnp.int64)\n",
    "inn_front = jnp.ones(1, dtype=jnp.int64)\n",
    "in_sub_pop = jnp.array([0,1])\n",
    "sites = jnp.arange(N, dtype=jnp.int64)\n",
    "Ady = jnp.eye(N, k=1, dtype=jnp.bool_)\n",
    "\n",
    "inverse_sons = Ady.sum(1)\n",
    "inverse_sons = inverse_sons.at[~inverse_sons].set(1)\n",
    "inverse_sons = 1 / inverse_sons\n",
    "\n",
    "r = 1\n",
    "rd = .1\n",
    "I = 1\n",
    "G_in = 1\n",
    "dt = .1\n",
    "τo = 1\n",
    "\n",
    "def move_innovation_ant(key, inn_front, in_sub_pop):\n",
    "    key, subkey = random.split(key)\n",
    "    \n",
    "    old_inn_front = inn_front.copy()\n",
    "    to_innov = random.uniform(subkey, (inn_front.size,)) < r*I*dt*n[inn_front]\n",
    "    n_growing_sites = to_innov.sum()\n",
    "    \n",
    "    if n_growing_sites:\n",
    "        new = jnp.zeros(n_growing_sites, dtype=jnp.int64)\n",
    "        key, *subkeys = random.split(key, n_growing_sites+1)\n",
    "        for i, ix in enumerate(inn_front[to_innov]):\n",
    "            new = new.at[i].set(random.choice(subkeys[i], sites[Ady[ix]]))\n",
    "        \n",
    "        inn_front = jnp.concatenate((inn_front, new))\n",
    "        inn_front = jnp.unique(inn_front)\n",
    "        in_sub_pop = jnp.concatenate((in_sub_pop, new))\n",
    "        in_sub_pop = jnp.unique(in_sub_pop)\n",
    "    inn_front = jnp.setdiff1d(inn_front, old_inn_front[to_innov])  # is it unnecessary?\n",
    "    \n",
    "    return key, inn_front, in_sub_pop\n",
    "\n",
    "\"\"\"\n",
    "Update the innovation front\n",
    "\"\"\"\n",
    "key, inn_front, in_sub_pop = move_innovation_ant(key, inn_front, in_sub_pop)\n",
    "\n",
    "\"\"\"\n",
    "Replication \n",
    "\"\"\"\n",
    "key, subkey = random.split(key)\n",
    "to_replicate = random.poisson(subkey, (r * inverse_sons * n * dt) @ Ady)\n",
    "n = n.at[in_sub_pop].set(n[in_sub_pop] + to_replicate[in_sub_pop])\n",
    "\n",
    "\"\"\"\n",
    "Death\n",
    "\"\"\"\n",
    "key, subkey = random.split(key)\n",
    "to_died = random.poisson(subkey, rd * n * dt)\n",
    "n = n - to_died                            \n",
    "n = n.at[n<0].set(0)\n",
    "\n",
    "\"\"\"\n",
    "Growth\n",
    "\"\"\"\n",
    "key, subkey = random.split(subkey)\n",
    "G_dt = random.poisson(subkey, G_in*dt/in_sub_pop.size, (in_sub_pop.size,))\n",
    "n = n.at[in_sub_pop].set(n[in_sub_pop] + G_dt)\n",
    "\n",
    "\"\"\"\n",
    "Update obsolescence front \n",
    "\"\"\"\n",
    "obs_not_inn = jnp.setdiff1d(obs_front, inn_front)\n",
    "\n",
    "key, subkey = random.split(key)\n",
    "to_obsolete = random.uniform(subkey, (obs_not_inn.size,)) < τo*dt\n",
    "to_obsolete = obs_not_inn[to_obsolete]\n",
    "obs_front = jnp.setdiff1d(obs_front, to_obsolete)\n",
    "in_sub_pop = jnp.setdiff1d(in_sub_pop, to_obsolete)\n",
    "\n",
    "to_add_obs = sites[Ady[to_obsolete].sum(0)>0]\n",
    "to_add_obs = jnp.intersect1d(to_add_obs, in_sub_pop)\n",
    "obs_front = jnp.concatenate((obs_front, to_add_obs))                            \n",
    "obs_front = jnp.unique(obs_front)"
   ]
  },
  {
   "cell_type": "code",
   "execution_count": 249,
   "id": "805d3e80",
   "metadata": {},
   "outputs": [
    {
     "data": {
      "text/plain": [
       "(Array([2], dtype=int64),\n",
       " Array([0], dtype=int64),\n",
       " Array([10, 11,  1,  0,  0,  0,  0,  0,  0,  0], dtype=int64))"
      ]
     },
     "execution_count": 249,
     "metadata": {},
     "output_type": "execute_result"
    }
   ],
   "source": [
    "inn_front, obs_front, n"
   ]
  },
  {
   "cell_type": "code",
   "execution_count": null,
   "id": "7d69a637",
   "metadata": {},
   "outputs": [],
   "source": []
  }
 ],
 "metadata": {
  "kernelspec": {
   "display_name": "Python 3 (ipykernel)",
   "language": "python",
   "name": "python3"
  },
  "language_info": {
   "codemirror_mode": {
    "name": "ipython",
    "version": 3
   },
   "file_extension": ".py",
   "mimetype": "text/x-python",
   "name": "python",
   "nbconvert_exporter": "python",
   "pygments_lexer": "ipython3",
   "version": "3.11.3"
  }
 },
 "nbformat": 4,
 "nbformat_minor": 5
}
