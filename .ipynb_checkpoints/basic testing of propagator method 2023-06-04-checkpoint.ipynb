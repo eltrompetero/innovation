{
 "cells": [
  {
   "cell_type": "code",
   "execution_count": 1,
   "id": "401a4403",
   "metadata": {},
   "outputs": [],
   "source": [
    "%matplotlib inline"
   ]
  },
  {
   "cell_type": "code",
   "execution_count": 2,
   "id": "8a48aa02",
   "metadata": {},
   "outputs": [],
   "source": [
    "plt.rc('font', size=15)"
   ]
  },
  {
   "cell_type": "code",
   "execution_count": 3,
   "id": "3e9b98f0",
   "metadata": {},
   "outputs": [],
   "source": [
    "from scipy.linalg import expm\n",
    "from innov import *\n",
    "\n",
    "np.set_printoptions(precision=4, linewidth=200)"
   ]
  },
  {
   "cell_type": "markdown",
   "id": "5058a216",
   "metadata": {},
   "source": [
    "# Using jax"
   ]
  },
  {
   "cell_type": "code",
   "execution_count": 4,
   "id": "d76a2fd7",
   "metadata": {},
   "outputs": [],
   "source": [
    "import jax.numpy as jnp\n",
    "from jax import jit as jaxjit"
   ]
  },
  {
   "cell_type": "code",
   "execution_count": 7,
   "id": "5f653fcb",
   "metadata": {},
   "outputs": [],
   "source": [
    "@jaxjit\n",
    "def construct_propagator(n, G, ro, rd, I, alpha, Q, L):\n",
    "    \"\"\"Construct propagator that will take occupancy number forward a small time step.\n",
    "    From the linearized form\n",
    "    \n",
    "    n_{t+1} = (1 + \\dot{n}_t / n_t * dt) n_t\n",
    "\n",
    "    Parameters\n",
    "    ----------\n",
    "    n : ndarray\n",
    "    G : float\n",
    "    ro : float\n",
    "    rd : float\n",
    "    I : float\n",
    "    alpha : float\n",
    "    Q : float\n",
    "    L : float, None\n",
    "    dt : float\n",
    "    \"\"\"\n",
    "    re = 1\n",
    "    \n",
    "    # startup rate\n",
    "    A = jnp.eye(n.size) * G/L / n\n",
    "    rows, cols = jnp.diag_indices_from(A)\n",
    "\n",
    "    # innovation shift\n",
    "    A = A.at[jnp.diag_indices(n.size)].set(A[jnp.diag_indices(n.size)] - re * I * n[0]**alpha)\n",
    "    A = A.at[(rows[1:],cols[:-1])].set(A[(rows[1:],cols[:-1])] + re * I * n[0]**alpha * n[:-1] / n[1:])\n",
    "\n",
    "    # mimetic replication\n",
    "    A = A.at[(rows[:-1],cols[1:])].set(A[(rows[:-1],cols[1:])] + re / (Q-1) * n[1:] / n[:-1])\n",
    "\n",
    "    # death\n",
    "    A = A.at[jnp.diag_indices(n.size)].set(A[jnp.diag_indices(n.size)] - rd)\n",
    "\n",
    "    return A"
   ]
  },
  {
   "cell_type": "code",
   "execution_count": 8,
   "id": "3901f033",
   "metadata": {},
   "outputs": [],
   "source": [
    "G, ro, rd, I = list(iplot.iwai_params().values())[:4]\n",
    "L = ODE2(G, ro, rd, I).L\n",
    "dt = 1e-3\n",
    "\n",
    "@jaxjit\n",
    "def test():\n",
    "    n = jnp.ones(int(L))\n",
    "    A = construct_propagator(n, G, ro, rd, I, 1, 2, L)\n",
    "    return (jnp.eye(n.size) + dt * A) @ n"
   ]
  },
  {
   "cell_type": "code",
   "execution_count": 9,
   "id": "df4b7cdb",
   "metadata": {},
   "outputs": [
    {
     "data": {
      "text/plain": [
       "Array([1.0066, 1.0066, 1.0066, 1.0066, 1.0066, 1.0066, 1.0066, 1.0066, 1.0066, 1.0056], dtype=float32)"
      ]
     },
     "execution_count": 9,
     "metadata": {},
     "output_type": "execute_result"
    }
   ],
   "source": [
    "test().block_until_ready()"
   ]
  },
  {
   "cell_type": "code",
   "execution_count": 16,
   "id": "373b718c",
   "metadata": {
    "scrolled": true
   },
   "outputs": [
    {
     "name": "stdout",
     "output_type": "stream",
     "text": [
      "15.9 µs ± 238 ns per loop (mean ± std. dev. of 7 runs, 100,000 loops each)\n"
     ]
    }
   ],
   "source": [
    "%timeit test().block_until_ready()"
   ]
  },
  {
   "cell_type": "markdown",
   "id": "152ddba8",
   "metadata": {},
   "source": [
    "### GPU on FlowMFT model"
   ]
  },
  {
   "cell_type": "code",
   "execution_count": 18,
   "id": "497b4891",
   "metadata": {},
   "outputs": [],
   "source": [
    "G, ro, rd, I = list(iplot.iwai_params().values())[:4]\n",
    "model = FlowMFT(G, ro, rd, I, 1e-3)"
   ]
  },
  {
   "cell_type": "code",
   "execution_count": 5,
   "id": "571d744d",
   "metadata": {},
   "outputs": [
    {
     "data": {
      "text/plain": [
       "80.85732629222669"
      ]
     },
     "execution_count": 5,
     "metadata": {},
     "output_type": "execute_result"
    }
   ],
   "source": [
    "G, ro, rd, I = list(iplot.jangili_params(1).values())[:4]\n",
    "model = FlowMFT(G, ro, rd*.96, I, 1e-3)\n",
    "model.L"
   ]
  },
  {
   "cell_type": "code",
   "execution_count": 44,
   "id": "d56dd88f",
   "metadata": {},
   "outputs": [],
   "source": [
    "def test():\n",
    "    model = FlowMFT(G, ro, rd*.9538, I, 1e-3)\n",
    "    model.solve_stationary(T=100)"
   ]
  },
  {
   "cell_type": "code",
   "execution_count": 45,
   "id": "ef2cbe60",
   "metadata": {},
   "outputs": [
    {
     "name": "stdout",
     "output_type": "stream",
     "text": [
      "334 ms ± 248 µs per loop (mean ± std. dev. of 7 runs, 1 loop each)\n"
     ]
    }
   ],
   "source": [
    "%timeit test()"
   ]
  },
  {
   "cell_type": "code",
   "execution_count": 46,
   "id": "60e7d803",
   "metadata": {},
   "outputs": [],
   "source": [
    "def test():\n",
    "    model = FlowMFT(G, ro, rd*.9538, I, 1e-3)\n",
    "    model.solve_stationary(use_gpu=True, T=100)\n",
    "test()"
   ]
  },
  {
   "cell_type": "code",
   "execution_count": 47,
   "id": "fa3e6b21",
   "metadata": {
    "scrolled": true
   },
   "outputs": [
    {
     "name": "stdout",
     "output_type": "stream",
     "text": [
      "6.09 ms ± 3.23 µs per loop (mean ± std. dev. of 7 runs, 100 loops each)\n"
     ]
    }
   ],
   "source": [
    "%timeit test()"
   ]
  },
  {
   "cell_type": "code",
   "execution_count": 78,
   "id": "9a7b7efe",
   "metadata": {},
   "outputs": [],
   "source": [
    "FlowMFT.solve_stationary?"
   ]
  },
  {
   "cell_type": "code",
   "execution_count": 79,
   "id": "bf1bf235",
   "metadata": {},
   "outputs": [],
   "source": [
    "import time\n",
    "\n",
    "def fit_iwai():\n",
    "    data1958 = pd.read_csv('cache/iwai1958.csv', header=None).values[:,:2]\n",
    "    data1963 = pd.read_csv('cache/iwai1963.csv', header=None).values[:,:2]\n",
    "\n",
    "    x = data1958[:,0]\n",
    "    y = data1958[:,1]\n",
    "    ix = np.unique(x, return_index=True)[1]\n",
    "\n",
    "    yfun = interp1d(x[ix], y[ix], kind='cubic')\n",
    "\n",
    "    y = yfun(np.linspace(x.min(), x.max(), 30))\n",
    "    x = np.arange(30)\n",
    "\n",
    "    fitter = GridSearchFitter(y)\n",
    "\n",
    "    # pre-selected fitting range from previous manual fits\n",
    "    G_range = np.arange(50, 100, 2)\n",
    "    ro_range = np.linspace(1., 3., 5)\n",
    "    rd_range = np.linspace(.4, 1.2, 5)\n",
    "    I_range = np.logspace(-2, -.5, 5)\n",
    "\n",
    "    fit_results = fitter.scan(G_range, ro_range, rd_range, I_range,\n",
    "                              L_scale=2,\n",
    "                              par=False)"
   ]
  },
  {
   "cell_type": "code",
   "execution_count": 76,
   "id": "31aaa174",
   "metadata": {},
   "outputs": [
    {
     "name": "stdout",
     "output_type": "stream",
     "text": [
      "10.43809986114502\n"
     ]
    }
   ],
   "source": [
    "start = time.time()\n",
    "fit_iwai()\n",
    "end = time.time()\n",
    "print(end - start)"
   ]
  },
  {
   "cell_type": "code",
   "execution_count": 81,
   "id": "fd038636",
   "metadata": {},
   "outputs": [
    {
     "name": "stdout",
     "output_type": "stream",
     "text": [
      "17.026033639907837\n"
     ]
    }
   ],
   "source": [
    "start = time.time()\n",
    "fit_iwai()\n",
    "end = time.time()\n",
    "print(end - start)"
   ]
  },
  {
   "cell_type": "markdown",
   "id": "e1005f50",
   "metadata": {},
   "source": [
    "# Using cupy"
   ]
  },
  {
   "cell_type": "code",
   "execution_count": 93,
   "id": "0c7106e0",
   "metadata": {},
   "outputs": [],
   "source": [
    "import cupy as cp\n",
    "from cupyx.profiler import benchmark"
   ]
  },
  {
   "cell_type": "code",
   "execution_count": 119,
   "id": "a482b034",
   "metadata": {},
   "outputs": [],
   "source": [
    "def kth_diag_indices(a, k):\n",
    "    rows, cols = cp.diag_indices_from(a)\n",
    "    if k < 0:\n",
    "        return rows[-k:], cols[:k]\n",
    "    elif k > 0:\n",
    "        return rows[:-k], cols[k:]\n",
    "    else:\n",
    "        return rows, cols\n",
    "\n",
    "def construct_propagator(n, G, ro, rd, I, alpha, Q, L):\n",
    "    \"\"\"Update occupancy number for a small time step self.dt. This is the approximation of the term\n",
    "    \\dot{n}_t / n_t * dt\n",
    "    \n",
    "    in the linearized form\n",
    "    \n",
    "    n_{t+1} = (1 + \\dot{n}_t / n_t * dt) n_t\n",
    "\n",
    "    Parameters\n",
    "    ----------\n",
    "    n : ndarray\n",
    "    G : float\n",
    "    ro : float\n",
    "    rd : float\n",
    "    I : float\n",
    "    alpha : float\n",
    "    Q : float\n",
    "    L : float, None\n",
    "    dt : float\n",
    "    \"\"\"\n",
    "    re = 1\n",
    "    \n",
    "    # startup rate\n",
    "    A = cp.eye(n.size) * G/L / n\n",
    "\n",
    "    # innovation shift\n",
    "    A[cp.diag_indices(n.size)] -= re * I * n[0]**alpha\n",
    "    A[kth_diag_indices(A, -1)] += re * I * n[0]**alpha * n[:-1] / n[1:]\n",
    "\n",
    "    # mimetic replication\n",
    "    A[kth_diag_indices(A, 1)] += re / (Q-1) * n[1:] / n[:-1]\n",
    "\n",
    "    # death\n",
    "    A[cp.diag_indices(n.size)] -= rd\n",
    "\n",
    "    return A"
   ]
  },
  {
   "cell_type": "code",
   "execution_count": 146,
   "id": "0fdeb01f",
   "metadata": {},
   "outputs": [],
   "source": [
    "G, ro, rd, I = list(iplot.iwai_params().values())[:4]\n",
    "L = ODE2(G, ro, rd, I).L\n",
    "\n",
    "def test():\n",
    "    n_exp = cp.ones(int(L))\n",
    "    A = construct_propagator(n_exp, G, ro, rd, I, 1, 2, L)\n",
    "    return cp.dot(cp.eye(n.size) + dt * A, n_exp)\n",
    "    return (cp.eye(n.size) + dt * A) @ n_exp"
   ]
  },
  {
   "cell_type": "code",
   "execution_count": 160,
   "id": "28eb9b24",
   "metadata": {},
   "outputs": [
    {
     "data": {
      "text/plain": [
       "test                :    CPU:  1043.948 us   +/-  7.261 (min:  1032.417 / max:  1076.069) us     GPU-0:  1049.420 us   +/-  7.307 (min:  1037.408 / max:  1082.336) us"
      ]
     },
     "execution_count": 160,
     "metadata": {},
     "output_type": "execute_result"
    }
   ],
   "source": [
    "benchmark(test, n_repeat=100)"
   ]
  },
  {
   "cell_type": "code",
   "execution_count": 163,
   "id": "fc588edf",
   "metadata": {},
   "outputs": [
    {
     "name": "stdout",
     "output_type": "stream",
     "text": [
      "1.04 ms ± 1.89 µs per loop (mean ± std. dev. of 7 runs, 1,000 loops each)\n"
     ]
    }
   ],
   "source": [
    "%timeit test()"
   ]
  },
  {
   "cell_type": "markdown",
   "id": "1e566675",
   "metadata": {},
   "source": [
    "# Using numpy"
   ]
  },
  {
   "cell_type": "code",
   "execution_count": 112,
   "id": "d463bc19",
   "metadata": {},
   "outputs": [],
   "source": [
    "def kth_diag_indices(a, k):\n",
    "    rows, cols = np.diag_indices_from(a)\n",
    "    if k < 0:\n",
    "        return rows[-k:], cols[:k]\n",
    "    elif k > 0:\n",
    "        return rows[:-k], cols[k:]\n",
    "    else:\n",
    "        return rows, cols\n",
    "\n",
    "def construct_propagator(n, G, ro, rd, I, alpha, Q, L):\n",
    "    \"\"\"Update occupancy number for a small time step self.dt. This is the approximation of the term\n",
    "    \\dot{n}_t / n_t * dt\n",
    "    \n",
    "    in the linearized form\n",
    "    \n",
    "    n_{t+1} = (1 + \\dot{n}_t / n_t * dt) n_t\n",
    "\n",
    "    Parameters\n",
    "    ----------\n",
    "    n : ndarray\n",
    "    G : float\n",
    "    ro : float\n",
    "    rd : float\n",
    "    I : float\n",
    "    alpha : float\n",
    "    Q : float\n",
    "    L : float, None\n",
    "    dt : float\n",
    "    \"\"\"\n",
    "    re = 1\n",
    "    \n",
    "    # startup rate\n",
    "    A = np.eye(n.size) * G/L / n\n",
    "\n",
    "    # innovation shift\n",
    "    A[np.diag_indices(n.size)] -= re * I * n[0]**alpha\n",
    "    A[kth_diag_indices(A, -1)] += re * I * n[0]**alpha * n[:-1] / n[1:]\n",
    "\n",
    "    # mimetic replication\n",
    "    A[kth_diag_indices(A, 1)] += re / (Q-1) * n[1:] / n[:-1]\n",
    "\n",
    "    # death\n",
    "    A[np.diag_indices(n.size)] -= rd\n",
    "\n",
    "    return A"
   ]
  },
  {
   "cell_type": "markdown",
   "id": "0716752f",
   "metadata": {},
   "source": [
    "Check error as a function of dt"
   ]
  },
  {
   "cell_type": "code",
   "execution_count": 102,
   "id": "c9235fb1",
   "metadata": {},
   "outputs": [],
   "source": [
    "G, ro, rd, I = list(iplot.iwai_params().values())[:4]\n",
    "L = ODE2(G, ro, rd, I).L\n",
    "\n",
    "def calc_err(dt):\n",
    "    \"\"\"Error over one time step.\"\"\"\n",
    "    n_exp = np.ones(int(L)) * 2.\n",
    "    A = construct_propagator(n_exp, G, ro, rd, I, 1, 2, L)\n",
    "    n_exp = (np.eye(n.size) + dt * A) @ n_exp\n",
    "\n",
    "    n_jit = np.ones(int(L)) * 2\n",
    "    jit_update_n(n_jit, G, ro, rd, 1, I, 1, 2, L, dt);\n",
    "\n",
    "    return np.linalg.norm(n_jit - n_exp)"
   ]
  },
  {
   "cell_type": "code",
   "execution_count": 113,
   "id": "68c2d0dd",
   "metadata": {},
   "outputs": [],
   "source": [
    "def test():\n",
    "    n_exp = np.ones(int(L)) * 2.\n",
    "    A = construct_propagator(n_exp, G, ro, rd, I, 1, 2, L)\n",
    "    return (np.eye(n.size) + dt * A) @ n_exp"
   ]
  },
  {
   "cell_type": "code",
   "execution_count": 114,
   "id": "8c89209a",
   "metadata": {
    "scrolled": true
   },
   "outputs": [
    {
     "name": "stdout",
     "output_type": "stream",
     "text": [
      "40 µs ± 32.4 ns per loop (mean ± std. dev. of 7 runs, 10,000 loops each)\n"
     ]
    }
   ],
   "source": [
    "%timeit test()"
   ]
  },
  {
   "cell_type": "code",
   "execution_count": 91,
   "id": "62b71020",
   "metadata": {},
   "outputs": [],
   "source": [
    "dt_range = np.logspace(-1, -4, 5)\n",
    "err = [calc_err(dt) for dt in dt_range]"
   ]
  },
  {
   "cell_type": "code",
   "execution_count": 85,
   "id": "9e99c0b4",
   "metadata": {},
   "outputs": [
    {
     "data": {
      "text/plain": [
       "[Text(0.5, 0, 'dt'), Text(0, 0.5, 'L2 error')]"
      ]
     },
     "execution_count": 85,
     "metadata": {},
     "output_type": "execute_result"
    },
    {
     "data": {
      "image/png": "[encoded data removed]",
      "text/plain": [
       "<Figure size 640x480 with 1 Axes>"
      ]
     },
     "metadata": {},
     "output_type": "display_data"
    }
   ],
   "source": [
    "fig, ax = plt.subplots()\n",
    "ax.loglog(dt_range, err, '.')\n",
    "ax.set(xlabel='dt', ylabel='L2 error')"
   ]
  },
  {
   "cell_type": "code",
   "execution_count": 92,
   "id": "96c6e9b1",
   "metadata": {},
   "outputs": [
    {
     "data": {
      "text/plain": [
       "[Text(0.5, 0, 'dt'), Text(0, 0.5, 'L2 error')]"
      ]
     },
     "execution_count": 92,
     "metadata": {},
     "output_type": "execute_result"
    },
    {
     "data": {
      "image/png": "[encoded data removed]",
      "text/plain": [
       "<Figure size 640x480 with 1 Axes>"
      ]
     },
     "metadata": {},
     "output_type": "display_data"
    }
   ],
   "source": [
    "fig, ax = plt.subplots()\n",
    "ax.loglog(dt_range, err, '.')\n",
    "ax.set(xlabel='dt', ylabel='L2 error')"
   ]
  },
  {
   "cell_type": "code",
   "execution_count": null,
   "id": "2574ab68",
   "metadata": {},
   "outputs": [],
   "source": []
  }
 ],
 "metadata": {
  "kernelspec": {
   "display_name": "Python 3 (ipykernel)",
   "language": "python",
   "name": "python3"
  },
  "language_info": {
   "codemirror_mode": {
    "name": "ipython",
    "version": 3
   },
   "file_extension": ".py",
   "mimetype": "text/x-python",
   "name": "python",
   "nbconvert_exporter": "python",
   "pygments_lexer": "ipython3",
   "version": "3.11.3"
  }
 },
 "nbformat": 4,
 "nbformat_minor": 5
}
